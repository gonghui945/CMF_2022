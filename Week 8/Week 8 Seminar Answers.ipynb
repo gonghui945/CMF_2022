{
 "cells": [
  {
   "cell_type": "markdown",
   "metadata": {},
   "source": [
    "# Week 8 Seminar Answers"
   ]
  },
  {
   "cell_type": "code",
   "execution_count": 1,
   "metadata": {},
   "outputs": [],
   "source": [
    "import numpy as np\n",
    "import pandas as pd\n",
    "import matplotlib.pyplot as plt\n",
    "import scipy.stats as si\n",
    "import yfinance as yf\n",
    "import os"
   ]
  },
  {
   "cell_type": "markdown",
   "metadata": {},
   "source": [
    "## Question 1"
   ]
  },
  {
   "cell_type": "code",
   "execution_count": 2,
   "metadata": {},
   "outputs": [
    {
     "name": "stdout",
     "output_type": "stream",
     "text": [
      "[*********************100%***********************]  1 of 1 completed\n"
     ]
    }
   ],
   "source": [
    "data = yf.download('SPY', start='2021-03-18', end='2022-03-18')"
   ]
  },
  {
   "cell_type": "code",
   "execution_count": 3,
   "metadata": {},
   "outputs": [
    {
     "data": {
      "text/html": [
       "<div>\n",
       "<style scoped>\n",
       "    .dataframe tbody tr th:only-of-type {\n",
       "        vertical-align: middle;\n",
       "    }\n",
       "\n",
       "    .dataframe tbody tr th {\n",
       "        vertical-align: top;\n",
       "    }\n",
       "\n",
       "    .dataframe thead th {\n",
       "        text-align: right;\n",
       "    }\n",
       "</style>\n",
       "<table border=\"1\" class=\"dataframe\">\n",
       "  <thead>\n",
       "    <tr style=\"text-align: right;\">\n",
       "      <th></th>\n",
       "      <th>Open</th>\n",
       "      <th>High</th>\n",
       "      <th>Low</th>\n",
       "      <th>Close</th>\n",
       "      <th>Adj Close</th>\n",
       "      <th>Volume</th>\n",
       "    </tr>\n",
       "    <tr>\n",
       "      <th>Date</th>\n",
       "      <th></th>\n",
       "      <th></th>\n",
       "      <th></th>\n",
       "      <th></th>\n",
       "      <th></th>\n",
       "      <th></th>\n",
       "    </tr>\n",
       "  </thead>\n",
       "  <tbody>\n",
       "    <tr>\n",
       "      <th>2021-03-18</th>\n",
       "      <td>394.480011</td>\n",
       "      <td>396.720001</td>\n",
       "      <td>390.750000</td>\n",
       "      <td>391.480011</td>\n",
       "      <td>385.133820</td>\n",
       "      <td>115349100</td>\n",
       "    </tr>\n",
       "    <tr>\n",
       "      <th>2021-03-19</th>\n",
       "      <td>389.880005</td>\n",
       "      <td>391.570007</td>\n",
       "      <td>387.149994</td>\n",
       "      <td>389.480011</td>\n",
       "      <td>384.421204</td>\n",
       "      <td>113624500</td>\n",
       "    </tr>\n",
       "    <tr>\n",
       "      <th>2021-03-22</th>\n",
       "      <td>390.029999</td>\n",
       "      <td>394.070007</td>\n",
       "      <td>389.970001</td>\n",
       "      <td>392.589996</td>\n",
       "      <td>387.490814</td>\n",
       "      <td>73778600</td>\n",
       "    </tr>\n",
       "    <tr>\n",
       "      <th>2021-03-23</th>\n",
       "      <td>391.910004</td>\n",
       "      <td>393.459991</td>\n",
       "      <td>388.660004</td>\n",
       "      <td>389.500000</td>\n",
       "      <td>384.440948</td>\n",
       "      <td>90686600</td>\n",
       "    </tr>\n",
       "    <tr>\n",
       "      <th>2021-03-24</th>\n",
       "      <td>391.000000</td>\n",
       "      <td>392.750000</td>\n",
       "      <td>387.470001</td>\n",
       "      <td>387.519989</td>\n",
       "      <td>382.486633</td>\n",
       "      <td>97588600</td>\n",
       "    </tr>\n",
       "  </tbody>\n",
       "</table>\n",
       "</div>"
      ],
      "text/plain": [
       "                  Open        High         Low       Close   Adj Close  \\\n",
       "Date                                                                     \n",
       "2021-03-18  394.480011  396.720001  390.750000  391.480011  385.133820   \n",
       "2021-03-19  389.880005  391.570007  387.149994  389.480011  384.421204   \n",
       "2021-03-22  390.029999  394.070007  389.970001  392.589996  387.490814   \n",
       "2021-03-23  391.910004  393.459991  388.660004  389.500000  384.440948   \n",
       "2021-03-24  391.000000  392.750000  387.470001  387.519989  382.486633   \n",
       "\n",
       "               Volume  \n",
       "Date                   \n",
       "2021-03-18  115349100  \n",
       "2021-03-19  113624500  \n",
       "2021-03-22   73778600  \n",
       "2021-03-23   90686600  \n",
       "2021-03-24   97588600  "
      ]
     },
     "execution_count": 3,
     "metadata": {},
     "output_type": "execute_result"
    }
   ],
   "source": [
    "data.head()"
   ]
  },
  {
   "cell_type": "code",
   "execution_count": 4,
   "metadata": {},
   "outputs": [
    {
     "data": {
      "text/html": [
       "<div>\n",
       "<style scoped>\n",
       "    .dataframe tbody tr th:only-of-type {\n",
       "        vertical-align: middle;\n",
       "    }\n",
       "\n",
       "    .dataframe tbody tr th {\n",
       "        vertical-align: top;\n",
       "    }\n",
       "\n",
       "    .dataframe thead th {\n",
       "        text-align: right;\n",
       "    }\n",
       "</style>\n",
       "<table border=\"1\" class=\"dataframe\">\n",
       "  <thead>\n",
       "    <tr style=\"text-align: right;\">\n",
       "      <th></th>\n",
       "      <th>Open</th>\n",
       "      <th>High</th>\n",
       "      <th>Low</th>\n",
       "      <th>Close</th>\n",
       "      <th>Adj Close</th>\n",
       "      <th>Volume</th>\n",
       "    </tr>\n",
       "    <tr>\n",
       "      <th>Date</th>\n",
       "      <th></th>\n",
       "      <th></th>\n",
       "      <th></th>\n",
       "      <th></th>\n",
       "      <th></th>\n",
       "      <th></th>\n",
       "    </tr>\n",
       "  </thead>\n",
       "  <tbody>\n",
       "    <tr>\n",
       "      <th>2022-03-11</th>\n",
       "      <td>428.119995</td>\n",
       "      <td>428.769989</td>\n",
       "      <td>419.529999</td>\n",
       "      <td>420.070007</td>\n",
       "      <td>418.769043</td>\n",
       "      <td>95529600</td>\n",
       "    </tr>\n",
       "    <tr>\n",
       "      <th>2022-03-14</th>\n",
       "      <td>420.890015</td>\n",
       "      <td>424.549988</td>\n",
       "      <td>415.790009</td>\n",
       "      <td>417.000000</td>\n",
       "      <td>415.708557</td>\n",
       "      <td>95729200</td>\n",
       "    </tr>\n",
       "    <tr>\n",
       "      <th>2022-03-15</th>\n",
       "      <td>419.769989</td>\n",
       "      <td>426.839996</td>\n",
       "      <td>418.420013</td>\n",
       "      <td>426.170013</td>\n",
       "      <td>424.850159</td>\n",
       "      <td>106219100</td>\n",
       "    </tr>\n",
       "    <tr>\n",
       "      <th>2022-03-16</th>\n",
       "      <td>429.890015</td>\n",
       "      <td>435.679993</td>\n",
       "      <td>424.799988</td>\n",
       "      <td>435.619995</td>\n",
       "      <td>434.270874</td>\n",
       "      <td>144954800</td>\n",
       "    </tr>\n",
       "    <tr>\n",
       "      <th>2022-03-17</th>\n",
       "      <td>433.589996</td>\n",
       "      <td>441.070007</td>\n",
       "      <td>433.190002</td>\n",
       "      <td>441.070007</td>\n",
       "      <td>439.704010</td>\n",
       "      <td>102676900</td>\n",
       "    </tr>\n",
       "  </tbody>\n",
       "</table>\n",
       "</div>"
      ],
      "text/plain": [
       "                  Open        High         Low       Close   Adj Close  \\\n",
       "Date                                                                     \n",
       "2022-03-11  428.119995  428.769989  419.529999  420.070007  418.769043   \n",
       "2022-03-14  420.890015  424.549988  415.790009  417.000000  415.708557   \n",
       "2022-03-15  419.769989  426.839996  418.420013  426.170013  424.850159   \n",
       "2022-03-16  429.890015  435.679993  424.799988  435.619995  434.270874   \n",
       "2022-03-17  433.589996  441.070007  433.190002  441.070007  439.704010   \n",
       "\n",
       "               Volume  \n",
       "Date                   \n",
       "2022-03-11   95529600  \n",
       "2022-03-14   95729200  \n",
       "2022-03-15  106219100  \n",
       "2022-03-16  144954800  \n",
       "2022-03-17  102676900  "
      ]
     },
     "execution_count": 4,
     "metadata": {},
     "output_type": "execute_result"
    }
   ],
   "source": [
    "data.tail()"
   ]
  },
  {
   "cell_type": "code",
   "execution_count": 5,
   "metadata": {},
   "outputs": [
    {
     "name": "stdout",
     "output_type": "stream",
     "text": [
      "The spot price is 439.7\n"
     ]
    }
   ],
   "source": [
    "S = data['Adj Close'][-1]\n",
    "print('The spot price is', round(S,2))"
   ]
  },
  {
   "cell_type": "markdown",
   "metadata": {},
   "source": [
    "## Question 2 "
   ]
  },
  {
   "cell_type": "markdown",
   "metadata": {},
   "source": [
    "Step 1: Find the log return of Index"
   ]
  },
  {
   "cell_type": "code",
   "execution_count": 6,
   "metadata": {},
   "outputs": [],
   "source": [
    "log_return = np.log(data['Adj Close'] / data['Adj Close'].shift(1))"
   ]
  },
  {
   "cell_type": "markdown",
   "metadata": {},
   "source": [
    "Step 2: Calculate its standard deviation and annualised  it "
   ]
  },
  {
   "cell_type": "code",
   "execution_count": 7,
   "metadata": {},
   "outputs": [
    {
     "name": "stdout",
     "output_type": "stream",
     "text": [
      "The annualised volatility is 14.74 %\n"
     ]
    }
   ],
   "source": [
    "vol = np.sqrt(252) * log_return.std()\n",
    "print('The annualised volatility is', round(vol*100,2), '%')"
   ]
  },
  {
   "cell_type": "markdown",
   "metadata": {},
   "source": [
    "And the spot value for VIX is "
   ]
  },
  {
   "cell_type": "code",
   "execution_count": 8,
   "metadata": {},
   "outputs": [
    {
     "name": "stdout",
     "output_type": "stream",
     "text": [
      "[*********************100%***********************]  1 of 1 completed\n"
     ]
    }
   ],
   "source": [
    "VIX = yf.download(\"^VIX\", start=\"2021-03-18\", end=\"2022-03-18\")"
   ]
  },
  {
   "cell_type": "code",
   "execution_count": 9,
   "metadata": {},
   "outputs": [
    {
     "name": "stdout",
     "output_type": "stream",
     "text": [
      "The market volatility is 25.67 %\n"
     ]
    }
   ],
   "source": [
    "vix = VIX['Adj Close'][-1]\n",
    "print('The market volatility is', round(vix,2), '%')"
   ]
  },
  {
   "cell_type": "markdown",
   "metadata": {},
   "source": [
    "## Question 3"
   ]
  },
  {
   "cell_type": "code",
   "execution_count": 10,
   "metadata": {},
   "outputs": [],
   "source": [
    "def euro_option_bs(S, K, T, r, vol, payoff):\n",
    "    \n",
    "    #S: spot price\n",
    "    #K: strike price\n",
    "    #T: time to maturity\n",
    "    #r: interest rate\n",
    "    #vol: volatility of underlying asset\n",
    "    #payoff: call or put\n",
    "    \n",
    "    d1 = (np.log(S / K) + (r + 0.5 * vol ** 2) * T) / (vol * np.sqrt(T))\n",
    "    d2 = (np.log(S / K) + (r - 0.5 * vol ** 2) * T) / (vol * np.sqrt(T))\n",
    "    if payoff == \"call\":\n",
    "        option_value = S * si.norm.cdf(d1, 0.0, 1.0) - K * np.exp(-r * T) * si.norm.cdf(d2, 0.0, 1.0)\n",
    "    elif payoff == \"put\":\n",
    "        option_value = - S * si.norm.cdf(-d1, 0.0, 1.0) + K * np.exp(-r * T) * si.norm.cdf(-d2, 0.0, 1.0)\n",
    "    \n",
    "    return option_value"
   ]
  },
  {
   "cell_type": "code",
   "execution_count": 11,
   "metadata": {},
   "outputs": [],
   "source": [
    "K = 430\n",
    "T = 1/12\n",
    "r = 0.0132"
   ]
  },
  {
   "cell_type": "code",
   "execution_count": 12,
   "metadata": {},
   "outputs": [
    {
     "name": "stdout",
     "output_type": "stream",
     "text": [
      "The BS call price is 13.55\n"
     ]
    }
   ],
   "source": [
    "call = euro_option_bs(S, K, T, r, vol, 'call')\n",
    "print('The BS call price is', round(call, 2))"
   ]
  },
  {
   "cell_type": "code",
   "execution_count": 13,
   "metadata": {},
   "outputs": [
    {
     "name": "stdout",
     "output_type": "stream",
     "text": [
      "The BS put price is 3.38\n"
     ]
    }
   ],
   "source": [
    "put = euro_option_bs(S, K, T, r, vol, 'put')\n",
    "print('The BS put price is', round(put, 2))"
   ]
  },
  {
   "cell_type": "markdown",
   "metadata": {},
   "source": [
    "## Question 4"
   ]
  },
  {
   "cell_type": "code",
   "execution_count": 15,
   "metadata": {},
   "outputs": [],
   "source": [
    "SP500 = yf.Ticker('SPY')"
   ]
  },
  {
   "cell_type": "code",
   "execution_count": 16,
   "metadata": {},
   "outputs": [
    {
     "name": "stdout",
     "output_type": "stream",
     "text": [
      "The Market call price is 18.35\n"
     ]
    }
   ],
   "source": [
    "opt = SP500.option_chain('2022-04-18')\n",
    "call1 = opt.calls.lastPrice[opt.calls.strike == K]\n",
    "print('The Market call price is', float(call1.values))"
   ]
  },
  {
   "cell_type": "code",
   "execution_count": 17,
   "metadata": {},
   "outputs": [
    {
     "name": "stdout",
     "output_type": "stream",
     "text": [
      "The Market put price is 5.25\n"
     ]
    }
   ],
   "source": [
    "put1 = opt.puts.lastPrice[opt.puts.strike == K]\n",
    "print('The Market put price is', float(put1.values))"
   ]
  },
  {
   "cell_type": "markdown",
   "metadata": {},
   "source": [
    "## Question 5"
   ]
  },
  {
   "cell_type": "code",
   "execution_count": 18,
   "metadata": {},
   "outputs": [
    {
     "name": "stdout",
     "output_type": "stream",
     "text": [
      "The BS call price is 18.57\n"
     ]
    }
   ],
   "source": [
    "call2 = euro_option_bs(S, K, T, r, vix*0.01, 'call')\n",
    "print('The BS call price is', round(call2,2))"
   ]
  },
  {
   "cell_type": "code",
   "execution_count": 19,
   "metadata": {},
   "outputs": [
    {
     "name": "stdout",
     "output_type": "stream",
     "text": [
      "The BS put price is 8.39\n"
     ]
    }
   ],
   "source": [
    "put2 = euro_option_bs(S, K, T, r, vix*0.01, 'put')\n",
    "print('The BS put price is', round(put2,2))"
   ]
  },
  {
   "cell_type": "markdown",
   "metadata": {},
   "source": [
    "The results using the VIX is much better."
   ]
  },
  {
   "cell_type": "markdown",
   "metadata": {},
   "source": [
    "## Question 6"
   ]
  },
  {
   "cell_type": "code",
   "execution_count": 19,
   "metadata": {},
   "outputs": [],
   "source": [
    "K = np.linspace(375,465,4)\n",
    "T = [1/52, 2/52, 1/12, 2/12, 1/4, 1/2, 1]"
   ]
  },
  {
   "cell_type": "code",
   "execution_count": 20,
   "metadata": {},
   "outputs": [],
   "source": [
    "call = np.zeros((len(T),len(K)))\n",
    "for i in range(len(T)):\n",
    "    for j in range(len(K)):\n",
    "        call[i,j] = euro_option_bs(S, K[j], T[i], r, vix*0.01, 'call')"
   ]
  },
  {
   "cell_type": "code",
   "execution_count": 21,
   "metadata": {},
   "outputs": [],
   "source": [
    "import matplotlib as mpl\n",
    "import matplotlib.pyplot as plt\n",
    "plt.style.use('seaborn')\n",
    "mpl.rcParams['font.family'] = 'serif'\n",
    "%matplotlib inline\n",
    "\n",
    "strike, ttm = np.meshgrid(K, T)"
   ]
  },
  {
   "cell_type": "code",
   "execution_count": 22,
   "metadata": {},
   "outputs": [
    {
     "data": {
      "image/png": "[encoded data removed]",
      "text/plain": [
       "<Figure size 720x432 with 2 Axes>"
      ]
     },
     "metadata": {
      "needs_background": "light"
     },
     "output_type": "display_data"
    }
   ],
   "source": [
    "from mpl_toolkits.mplot3d import Axes3D\n",
    "fig = plt.figure(figsize=(10, 6))\n",
    "ax = fig.gca(projection='3d')\n",
    "surf = ax.plot_surface(strike, ttm, call, rstride=2, cstride=2, cmap=plt.cm.coolwarm, linewidth=0.5, antialiased=True)\n",
    "ax.set_xlabel('Strike')\n",
    "ax.set_ylabel('Time to expiry')\n",
    "ax.set_zlabel('Call price')\n",
    "fig.colorbar(surf, shrink=0.5, aspect=5);"
   ]
  }
 ],
 "metadata": {
  "kernelspec": {
   "display_name": "Python 3 (ipykernel)",
   "language": "python",
   "name": "python3"
  },
  "language_info": {
   "codemirror_mode": {
    "name": "ipython",
    "version": 3
   },
   "file_extension": ".py",
   "mimetype": "text/x-python",
   "name": "python",
   "nbconvert_exporter": "python",
   "pygments_lexer": "ipython3",
   "version": "3.9.7"
  }
 },
 "nbformat": 4,
 "nbformat_minor": 4
}
