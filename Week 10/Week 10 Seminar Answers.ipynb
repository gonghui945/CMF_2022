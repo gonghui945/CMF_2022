{
 "cells": [
  {
   "cell_type": "markdown",
   "metadata": {},
   "source": [
    "# Week 10 Seminar Answers"
   ]
  },
  {
   "cell_type": "code",
   "execution_count": 1,
   "metadata": {},
   "outputs": [],
   "source": [
    "import numpy as np\n",
    "import pandas as pd\n",
    "import matplotlib.pyplot as plt\n",
    "import scipy.stats as si\n",
    "import yfinance as yf\n",
    "import os"
   ]
  },
  {
   "cell_type": "markdown",
   "metadata": {},
   "source": [
    "## Question 1"
   ]
  },
  {
   "cell_type": "code",
   "execution_count": 2,
   "metadata": {},
   "outputs": [],
   "source": [
    "def newton_vol_put(S, K, T, P, r, q):\n",
    "    \n",
    "    #S: spot price\n",
    "    #K: strike price\n",
    "    #T: time to maturity\n",
    "    #C: Call value\n",
    "    #r: risk free rate\n",
    "    #sigma: volatility of underlying asset\n",
    "   \n",
    "    MAX_ITERATIONS = 100\n",
    "    tolerance = 0.00000001\n",
    "    \n",
    "    sigma = 0.25\n",
    "    \n",
    "    for i in range(0, MAX_ITERATIONS):\n",
    "        d1 = (np.log(S / K) + (r - q + 0.5 * sigma ** 2) * T) / (sigma * np.sqrt(T))\n",
    "        d2 = (np.log(S / K) + (r - q - 0.5 * sigma ** 2) * T) / (sigma * np.sqrt(T))\n",
    "        price = - S * np.exp(-q * T) * si.norm.cdf(-d1, 0.0, 1.0) + K * np.exp(-r * T) * si.norm.cdf(-d2, 0.0, 1.0)\n",
    "        vega = S * np.sqrt(T) * np.exp(-q * T) * si.norm.pdf(d1, 0.0, 1.0)\n",
    "\n",
    "        diff = P - price\n",
    "\n",
    "        if (abs(diff) < tolerance):\n",
    "            return sigma\n",
    "        else: \n",
    "            sigma = sigma + diff/vega\n",
    "        \n",
    "        print(i,sigma,diff)\n",
    "        \n",
    "    return sigma"
   ]
  },
  {
   "cell_type": "markdown",
   "metadata": {},
   "source": [
    "## Question 2"
   ]
  },
  {
   "cell_type": "code",
   "execution_count": 3,
   "metadata": {},
   "outputs": [
    {
     "name": "stdout",
     "output_type": "stream",
     "text": [
      "0 0.30937198446728353 1.147611753417607\n",
      "1 0.30918344475393805 -0.003665218592146857\n",
      "2 0.30918344355627375 -2.3282339611796488e-08\n",
      "The implied volatility is 30.92 % for the one-month put with strike $ 170\n"
     ]
    }
   ],
   "source": [
    "impvol = newton_vol_put(172.14, 170, 1/12, 5.00, 0.0169, 0.0051)\n",
    "print('The implied volatility is', round(impvol*100,2) , '% for the one-month put with strike $ 170' ) "
   ]
  },
  {
   "cell_type": "markdown",
   "metadata": {},
   "source": [
    "## Question 3"
   ]
  },
  {
   "cell_type": "code",
   "execution_count": 4,
   "metadata": {},
   "outputs": [
    {
     "data": {
      "text/html": [
       "<div>\n",
       "<style scoped>\n",
       "    .dataframe tbody tr th:only-of-type {\n",
       "        vertical-align: middle;\n",
       "    }\n",
       "\n",
       "    .dataframe tbody tr th {\n",
       "        vertical-align: top;\n",
       "    }\n",
       "\n",
       "    .dataframe thead th {\n",
       "        text-align: right;\n",
       "    }\n",
       "</style>\n",
       "<table border=\"1\" class=\"dataframe\">\n",
       "  <thead>\n",
       "    <tr style=\"text-align: right;\">\n",
       "      <th></th>\n",
       "      <th>contractSymbol</th>\n",
       "      <th>lastTradeDate</th>\n",
       "      <th>strike</th>\n",
       "      <th>lastPrice</th>\n",
       "      <th>bid</th>\n",
       "      <th>ask</th>\n",
       "      <th>change</th>\n",
       "      <th>percentChange</th>\n",
       "      <th>volume</th>\n",
       "      <th>openInterest</th>\n",
       "      <th>impliedVolatility</th>\n",
       "      <th>inTheMoney</th>\n",
       "      <th>contractSize</th>\n",
       "      <th>currency</th>\n",
       "    </tr>\n",
       "  </thead>\n",
       "  <tbody>\n",
       "    <tr>\n",
       "      <th>0</th>\n",
       "      <td>AAPL220506P00100000</td>\n",
       "      <td>2022-04-06 19:04:44</td>\n",
       "      <td>100.0</td>\n",
       "      <td>0.05</td>\n",
       "      <td>NaN</td>\n",
       "      <td>NaN</td>\n",
       "      <td>0.0</td>\n",
       "      <td>0.0</td>\n",
       "      <td>NaN</td>\n",
       "      <td>NaN</td>\n",
       "      <td>0.000000</td>\n",
       "      <td>False</td>\n",
       "      <td>REGULAR</td>\n",
       "      <td>USD</td>\n",
       "    </tr>\n",
       "    <tr>\n",
       "      <th>1</th>\n",
       "      <td>AAPL220506P00105000</td>\n",
       "      <td>2022-03-30 16:09:08</td>\n",
       "      <td>105.0</td>\n",
       "      <td>0.03</td>\n",
       "      <td>0.0</td>\n",
       "      <td>0.0</td>\n",
       "      <td>0.0</td>\n",
       "      <td>0.0</td>\n",
       "      <td>NaN</td>\n",
       "      <td>20.0</td>\n",
       "      <td>0.250007</td>\n",
       "      <td>False</td>\n",
       "      <td>REGULAR</td>\n",
       "      <td>USD</td>\n",
       "    </tr>\n",
       "    <tr>\n",
       "      <th>2</th>\n",
       "      <td>AAPL220506P00110000</td>\n",
       "      <td>2022-04-06 13:45:03</td>\n",
       "      <td>110.0</td>\n",
       "      <td>0.07</td>\n",
       "      <td>0.0</td>\n",
       "      <td>0.0</td>\n",
       "      <td>0.0</td>\n",
       "      <td>0.0</td>\n",
       "      <td>20.0</td>\n",
       "      <td>25.0</td>\n",
       "      <td>0.250007</td>\n",
       "      <td>False</td>\n",
       "      <td>REGULAR</td>\n",
       "      <td>USD</td>\n",
       "    </tr>\n",
       "    <tr>\n",
       "      <th>3</th>\n",
       "      <td>AAPL220506P00115000</td>\n",
       "      <td>2022-04-07 17:45:12</td>\n",
       "      <td>115.0</td>\n",
       "      <td>0.09</td>\n",
       "      <td>0.0</td>\n",
       "      <td>0.0</td>\n",
       "      <td>0.0</td>\n",
       "      <td>0.0</td>\n",
       "      <td>10.0</td>\n",
       "      <td>15.0</td>\n",
       "      <td>0.250007</td>\n",
       "      <td>False</td>\n",
       "      <td>REGULAR</td>\n",
       "      <td>USD</td>\n",
       "    </tr>\n",
       "    <tr>\n",
       "      <th>4</th>\n",
       "      <td>AAPL220506P00120000</td>\n",
       "      <td>2022-04-06 13:32:54</td>\n",
       "      <td>120.0</td>\n",
       "      <td>0.12</td>\n",
       "      <td>0.0</td>\n",
       "      <td>0.0</td>\n",
       "      <td>0.0</td>\n",
       "      <td>0.0</td>\n",
       "      <td>2.0</td>\n",
       "      <td>22.0</td>\n",
       "      <td>0.250007</td>\n",
       "      <td>False</td>\n",
       "      <td>REGULAR</td>\n",
       "      <td>USD</td>\n",
       "    </tr>\n",
       "    <tr>\n",
       "      <th>5</th>\n",
       "      <td>AAPL220506P00125000</td>\n",
       "      <td>2022-04-07 17:08:25</td>\n",
       "      <td>125.0</td>\n",
       "      <td>0.18</td>\n",
       "      <td>0.0</td>\n",
       "      <td>0.0</td>\n",
       "      <td>0.0</td>\n",
       "      <td>0.0</td>\n",
       "      <td>74.0</td>\n",
       "      <td>1207.0</td>\n",
       "      <td>0.250007</td>\n",
       "      <td>False</td>\n",
       "      <td>REGULAR</td>\n",
       "      <td>USD</td>\n",
       "    </tr>\n",
       "    <tr>\n",
       "      <th>6</th>\n",
       "      <td>AAPL220506P00130000</td>\n",
       "      <td>2022-04-07 19:09:32</td>\n",
       "      <td>130.0</td>\n",
       "      <td>0.20</td>\n",
       "      <td>0.0</td>\n",
       "      <td>0.0</td>\n",
       "      <td>0.0</td>\n",
       "      <td>0.0</td>\n",
       "      <td>202.0</td>\n",
       "      <td>1212.0</td>\n",
       "      <td>0.250007</td>\n",
       "      <td>False</td>\n",
       "      <td>REGULAR</td>\n",
       "      <td>USD</td>\n",
       "    </tr>\n",
       "    <tr>\n",
       "      <th>7</th>\n",
       "      <td>AAPL220506P00135000</td>\n",
       "      <td>2022-04-07 19:31:36</td>\n",
       "      <td>135.0</td>\n",
       "      <td>0.29</td>\n",
       "      <td>0.0</td>\n",
       "      <td>0.0</td>\n",
       "      <td>0.0</td>\n",
       "      <td>0.0</td>\n",
       "      <td>84.0</td>\n",
       "      <td>252.0</td>\n",
       "      <td>0.250007</td>\n",
       "      <td>False</td>\n",
       "      <td>REGULAR</td>\n",
       "      <td>USD</td>\n",
       "    </tr>\n",
       "    <tr>\n",
       "      <th>8</th>\n",
       "      <td>AAPL220506P00140000</td>\n",
       "      <td>2022-04-07 19:46:54</td>\n",
       "      <td>140.0</td>\n",
       "      <td>0.40</td>\n",
       "      <td>0.0</td>\n",
       "      <td>0.0</td>\n",
       "      <td>0.0</td>\n",
       "      <td>0.0</td>\n",
       "      <td>41.0</td>\n",
       "      <td>411.0</td>\n",
       "      <td>0.125009</td>\n",
       "      <td>False</td>\n",
       "      <td>REGULAR</td>\n",
       "      <td>USD</td>\n",
       "    </tr>\n",
       "    <tr>\n",
       "      <th>9</th>\n",
       "      <td>AAPL220506P00145000</td>\n",
       "      <td>2022-04-07 19:59:06</td>\n",
       "      <td>145.0</td>\n",
       "      <td>0.65</td>\n",
       "      <td>0.0</td>\n",
       "      <td>0.0</td>\n",
       "      <td>0.0</td>\n",
       "      <td>0.0</td>\n",
       "      <td>56.0</td>\n",
       "      <td>676.0</td>\n",
       "      <td>0.125009</td>\n",
       "      <td>False</td>\n",
       "      <td>REGULAR</td>\n",
       "      <td>USD</td>\n",
       "    </tr>\n",
       "    <tr>\n",
       "      <th>10</th>\n",
       "      <td>AAPL220506P00150000</td>\n",
       "      <td>2022-04-07 19:46:37</td>\n",
       "      <td>150.0</td>\n",
       "      <td>0.83</td>\n",
       "      <td>0.0</td>\n",
       "      <td>0.0</td>\n",
       "      <td>0.0</td>\n",
       "      <td>0.0</td>\n",
       "      <td>264.0</td>\n",
       "      <td>5308.0</td>\n",
       "      <td>0.125009</td>\n",
       "      <td>False</td>\n",
       "      <td>REGULAR</td>\n",
       "      <td>USD</td>\n",
       "    </tr>\n",
       "    <tr>\n",
       "      <th>11</th>\n",
       "      <td>AAPL220506P00155000</td>\n",
       "      <td>2022-04-07 19:59:11</td>\n",
       "      <td>155.0</td>\n",
       "      <td>1.43</td>\n",
       "      <td>0.0</td>\n",
       "      <td>0.0</td>\n",
       "      <td>0.0</td>\n",
       "      <td>0.0</td>\n",
       "      <td>259.0</td>\n",
       "      <td>4035.0</td>\n",
       "      <td>0.062509</td>\n",
       "      <td>False</td>\n",
       "      <td>REGULAR</td>\n",
       "      <td>USD</td>\n",
       "    </tr>\n",
       "    <tr>\n",
       "      <th>12</th>\n",
       "      <td>AAPL220506P00160000</td>\n",
       "      <td>2022-04-07 19:54:41</td>\n",
       "      <td>160.0</td>\n",
       "      <td>2.10</td>\n",
       "      <td>0.0</td>\n",
       "      <td>0.0</td>\n",
       "      <td>0.0</td>\n",
       "      <td>0.0</td>\n",
       "      <td>508.0</td>\n",
       "      <td>5977.0</td>\n",
       "      <td>0.062509</td>\n",
       "      <td>False</td>\n",
       "      <td>REGULAR</td>\n",
       "      <td>USD</td>\n",
       "    </tr>\n",
       "    <tr>\n",
       "      <th>13</th>\n",
       "      <td>AAPL220506P00165000</td>\n",
       "      <td>2022-04-07 19:53:42</td>\n",
       "      <td>165.0</td>\n",
       "      <td>3.13</td>\n",
       "      <td>0.0</td>\n",
       "      <td>0.0</td>\n",
       "      <td>0.0</td>\n",
       "      <td>0.0</td>\n",
       "      <td>602.0</td>\n",
       "      <td>4761.0</td>\n",
       "      <td>0.031260</td>\n",
       "      <td>False</td>\n",
       "      <td>REGULAR</td>\n",
       "      <td>USD</td>\n",
       "    </tr>\n",
       "    <tr>\n",
       "      <th>14</th>\n",
       "      <td>AAPL220506P00170000</td>\n",
       "      <td>2022-04-07 19:59:58</td>\n",
       "      <td>170.0</td>\n",
       "      <td>5.00</td>\n",
       "      <td>0.0</td>\n",
       "      <td>0.0</td>\n",
       "      <td>0.0</td>\n",
       "      <td>0.0</td>\n",
       "      <td>2251.0</td>\n",
       "      <td>13745.0</td>\n",
       "      <td>0.015635</td>\n",
       "      <td>False</td>\n",
       "      <td>REGULAR</td>\n",
       "      <td>USD</td>\n",
       "    </tr>\n",
       "    <tr>\n",
       "      <th>15</th>\n",
       "      <td>AAPL220506P00175000</td>\n",
       "      <td>2022-04-07 19:57:29</td>\n",
       "      <td>175.0</td>\n",
       "      <td>7.28</td>\n",
       "      <td>0.0</td>\n",
       "      <td>0.0</td>\n",
       "      <td>0.0</td>\n",
       "      <td>0.0</td>\n",
       "      <td>184.0</td>\n",
       "      <td>4840.0</td>\n",
       "      <td>0.000010</td>\n",
       "      <td>True</td>\n",
       "      <td>REGULAR</td>\n",
       "      <td>USD</td>\n",
       "    </tr>\n",
       "    <tr>\n",
       "      <th>16</th>\n",
       "      <td>AAPL220506P00180000</td>\n",
       "      <td>2022-04-07 19:54:40</td>\n",
       "      <td>180.0</td>\n",
       "      <td>10.10</td>\n",
       "      <td>0.0</td>\n",
       "      <td>0.0</td>\n",
       "      <td>0.0</td>\n",
       "      <td>0.0</td>\n",
       "      <td>40.0</td>\n",
       "      <td>21131.0</td>\n",
       "      <td>0.000010</td>\n",
       "      <td>True</td>\n",
       "      <td>REGULAR</td>\n",
       "      <td>USD</td>\n",
       "    </tr>\n",
       "    <tr>\n",
       "      <th>17</th>\n",
       "      <td>AAPL220506P00185000</td>\n",
       "      <td>2022-04-07 16:51:17</td>\n",
       "      <td>185.0</td>\n",
       "      <td>16.15</td>\n",
       "      <td>0.0</td>\n",
       "      <td>0.0</td>\n",
       "      <td>0.0</td>\n",
       "      <td>0.0</td>\n",
       "      <td>16.0</td>\n",
       "      <td>2028.0</td>\n",
       "      <td>0.000010</td>\n",
       "      <td>True</td>\n",
       "      <td>REGULAR</td>\n",
       "      <td>USD</td>\n",
       "    </tr>\n",
       "    <tr>\n",
       "      <th>18</th>\n",
       "      <td>AAPL220506P00190000</td>\n",
       "      <td>2022-04-07 16:34:37</td>\n",
       "      <td>190.0</td>\n",
       "      <td>19.97</td>\n",
       "      <td>0.0</td>\n",
       "      <td>0.0</td>\n",
       "      <td>0.0</td>\n",
       "      <td>0.0</td>\n",
       "      <td>6.0</td>\n",
       "      <td>32.0</td>\n",
       "      <td>0.000010</td>\n",
       "      <td>True</td>\n",
       "      <td>REGULAR</td>\n",
       "      <td>USD</td>\n",
       "    </tr>\n",
       "    <tr>\n",
       "      <th>19</th>\n",
       "      <td>AAPL220506P00195000</td>\n",
       "      <td>2022-04-07 16:34:37</td>\n",
       "      <td>195.0</td>\n",
       "      <td>24.72</td>\n",
       "      <td>0.0</td>\n",
       "      <td>0.0</td>\n",
       "      <td>0.0</td>\n",
       "      <td>0.0</td>\n",
       "      <td>1.0</td>\n",
       "      <td>7.0</td>\n",
       "      <td>0.000010</td>\n",
       "      <td>True</td>\n",
       "      <td>REGULAR</td>\n",
       "      <td>USD</td>\n",
       "    </tr>\n",
       "    <tr>\n",
       "      <th>20</th>\n",
       "      <td>AAPL220506P00200000</td>\n",
       "      <td>2022-04-06 18:03:06</td>\n",
       "      <td>200.0</td>\n",
       "      <td>27.25</td>\n",
       "      <td>0.0</td>\n",
       "      <td>0.0</td>\n",
       "      <td>0.0</td>\n",
       "      <td>0.0</td>\n",
       "      <td>2.0</td>\n",
       "      <td>26.0</td>\n",
       "      <td>0.000010</td>\n",
       "      <td>True</td>\n",
       "      <td>REGULAR</td>\n",
       "      <td>USD</td>\n",
       "    </tr>\n",
       "  </tbody>\n",
       "</table>\n",
       "</div>"
      ],
      "text/plain": [
       "         contractSymbol       lastTradeDate  strike  lastPrice  bid  ask  \\\n",
       "0   AAPL220506P00100000 2022-04-06 19:04:44   100.0       0.05  NaN  NaN   \n",
       "1   AAPL220506P00105000 2022-03-30 16:09:08   105.0       0.03  0.0  0.0   \n",
       "2   AAPL220506P00110000 2022-04-06 13:45:03   110.0       0.07  0.0  0.0   \n",
       "3   AAPL220506P00115000 2022-04-07 17:45:12   115.0       0.09  0.0  0.0   \n",
       "4   AAPL220506P00120000 2022-04-06 13:32:54   120.0       0.12  0.0  0.0   \n",
       "5   AAPL220506P00125000 2022-04-07 17:08:25   125.0       0.18  0.0  0.0   \n",
       "6   AAPL220506P00130000 2022-04-07 19:09:32   130.0       0.20  0.0  0.0   \n",
       "7   AAPL220506P00135000 2022-04-07 19:31:36   135.0       0.29  0.0  0.0   \n",
       "8   AAPL220506P00140000 2022-04-07 19:46:54   140.0       0.40  0.0  0.0   \n",
       "9   AAPL220506P00145000 2022-04-07 19:59:06   145.0       0.65  0.0  0.0   \n",
       "10  AAPL220506P00150000 2022-04-07 19:46:37   150.0       0.83  0.0  0.0   \n",
       "11  AAPL220506P00155000 2022-04-07 19:59:11   155.0       1.43  0.0  0.0   \n",
       "12  AAPL220506P00160000 2022-04-07 19:54:41   160.0       2.10  0.0  0.0   \n",
       "13  AAPL220506P00165000 2022-04-07 19:53:42   165.0       3.13  0.0  0.0   \n",
       "14  AAPL220506P00170000 2022-04-07 19:59:58   170.0       5.00  0.0  0.0   \n",
       "15  AAPL220506P00175000 2022-04-07 19:57:29   175.0       7.28  0.0  0.0   \n",
       "16  AAPL220506P00180000 2022-04-07 19:54:40   180.0      10.10  0.0  0.0   \n",
       "17  AAPL220506P00185000 2022-04-07 16:51:17   185.0      16.15  0.0  0.0   \n",
       "18  AAPL220506P00190000 2022-04-07 16:34:37   190.0      19.97  0.0  0.0   \n",
       "19  AAPL220506P00195000 2022-04-07 16:34:37   195.0      24.72  0.0  0.0   \n",
       "20  AAPL220506P00200000 2022-04-06 18:03:06   200.0      27.25  0.0  0.0   \n",
       "\n",
       "    change  percentChange  volume  openInterest  impliedVolatility  \\\n",
       "0      0.0            0.0     NaN           NaN           0.000000   \n",
       "1      0.0            0.0     NaN          20.0           0.250007   \n",
       "2      0.0            0.0    20.0          25.0           0.250007   \n",
       "3      0.0            0.0    10.0          15.0           0.250007   \n",
       "4      0.0            0.0     2.0          22.0           0.250007   \n",
       "5      0.0            0.0    74.0        1207.0           0.250007   \n",
       "6      0.0            0.0   202.0        1212.0           0.250007   \n",
       "7      0.0            0.0    84.0         252.0           0.250007   \n",
       "8      0.0            0.0    41.0         411.0           0.125009   \n",
       "9      0.0            0.0    56.0         676.0           0.125009   \n",
       "10     0.0            0.0   264.0        5308.0           0.125009   \n",
       "11     0.0            0.0   259.0        4035.0           0.062509   \n",
       "12     0.0            0.0   508.0        5977.0           0.062509   \n",
       "13     0.0            0.0   602.0        4761.0           0.031260   \n",
       "14     0.0            0.0  2251.0       13745.0           0.015635   \n",
       "15     0.0            0.0   184.0        4840.0           0.000010   \n",
       "16     0.0            0.0    40.0       21131.0           0.000010   \n",
       "17     0.0            0.0    16.0        2028.0           0.000010   \n",
       "18     0.0            0.0     6.0          32.0           0.000010   \n",
       "19     0.0            0.0     1.0           7.0           0.000010   \n",
       "20     0.0            0.0     2.0          26.0           0.000010   \n",
       "\n",
       "    inTheMoney contractSize currency  \n",
       "0        False      REGULAR      USD  \n",
       "1        False      REGULAR      USD  \n",
       "2        False      REGULAR      USD  \n",
       "3        False      REGULAR      USD  \n",
       "4        False      REGULAR      USD  \n",
       "5        False      REGULAR      USD  \n",
       "6        False      REGULAR      USD  \n",
       "7        False      REGULAR      USD  \n",
       "8        False      REGULAR      USD  \n",
       "9        False      REGULAR      USD  \n",
       "10       False      REGULAR      USD  \n",
       "11       False      REGULAR      USD  \n",
       "12       False      REGULAR      USD  \n",
       "13       False      REGULAR      USD  \n",
       "14       False      REGULAR      USD  \n",
       "15        True      REGULAR      USD  \n",
       "16        True      REGULAR      USD  \n",
       "17        True      REGULAR      USD  \n",
       "18        True      REGULAR      USD  \n",
       "19        True      REGULAR      USD  \n",
       "20        True      REGULAR      USD  "
      ]
     },
     "execution_count": 4,
     "metadata": {},
     "output_type": "execute_result"
    }
   ],
   "source": [
    "AAPL = yf.Ticker('AAPL')\n",
    "opt = AAPL.option_chain('2022-05-06')\n",
    "opt.puts"
   ]
  },
  {
   "cell_type": "code",
   "execution_count": 5,
   "metadata": {},
   "outputs": [],
   "source": [
    "import mibian"
   ]
  },
  {
   "cell_type": "code",
   "execution_count": 6,
   "metadata": {},
   "outputs": [],
   "source": [
    "impliedvol = np.zeros((len(opt.puts.strike),1))\n",
    "for i in range(len(opt.puts.strike)):\n",
    "    p = mibian.Me([172.14, opt.puts.strike[i], 1.69, 0.51, 28], putPrice = opt.puts.lastPrice[i])\n",
    "    impliedvol [i] = p.impliedVolatility"
   ]
  },
  {
   "cell_type": "code",
   "execution_count": 7,
   "metadata": {},
   "outputs": [
    {
     "data": {
      "text/plain": [
       "Text(0.5, 1.0, 'Volatility Smile')"
      ]
     },
     "execution_count": 7,
     "metadata": {},
     "output_type": "execute_result"
    },
    {
     "data": {
      "image/png": "[encoded data removed]",
      "text/plain": [
       "<Figure size 432x288 with 1 Axes>"
      ]
     },
     "metadata": {
      "needs_background": "light"
     },
     "output_type": "display_data"
    }
   ],
   "source": [
    "fig = plt.figure()\n",
    "plt.plot(opt.puts.strike, impliedvol, '-')\n",
    "plt.xlabel('Strike Price')\n",
    "plt.ylabel('Implied Volatility')\n",
    "plt.title('Volatility Smile')"
   ]
  },
  {
   "cell_type": "markdown",
   "metadata": {},
   "source": [
    "## Quetion 4"
   ]
  },
  {
   "cell_type": "code",
   "execution_count": 8,
   "metadata": {},
   "outputs": [
    {
     "data": {
      "text/plain": [
       "Text(0.5, 1.0, 'Volatility Smile')"
      ]
     },
     "execution_count": 8,
     "metadata": {},
     "output_type": "execute_result"
    },
    {
     "data": {
      "image/png": "[encoded data removed]",
      "text/plain": [
       "<Figure size 432x288 with 1 Axes>"
      ]
     },
     "metadata": {
      "needs_background": "light"
     },
     "output_type": "display_data"
    }
   ],
   "source": [
    "fig = plt.figure()\n",
    "plt.plot(opt.puts.strike, opt.puts.impliedVolatility, '--')\n",
    "plt.xlabel('Strike Price')\n",
    "plt.ylabel('Implied Volatility')\n",
    "plt.title('Volatility Smile')"
   ]
  },
  {
   "cell_type": "markdown",
   "metadata": {},
   "source": [
    "## Question 5"
   ]
  },
  {
   "cell_type": "code",
   "execution_count": 9,
   "metadata": {},
   "outputs": [],
   "source": [
    "difference = np.zeros((len(opt.puts.strike),1))\n",
    "for i in range(len(opt.puts.strike)):\n",
    "    difference[i] = impliedvol[i] - opt.puts.impliedVolatility[i]*100"
   ]
  },
  {
   "cell_type": "code",
   "execution_count": 10,
   "metadata": {},
   "outputs": [
    {
     "data": {
      "text/plain": [
       "Text(0.5, 1.0, 'Volatility Smile')"
      ]
     },
     "execution_count": 10,
     "metadata": {},
     "output_type": "execute_result"
    },
    {
     "data": {
      "image/png": "[encoded data removed]",
      "text/plain": [
       "<Figure size 432x288 with 1 Axes>"
      ]
     },
     "metadata": {
      "needs_background": "light"
     },
     "output_type": "display_data"
    }
   ],
   "source": [
    "fig = plt.figure()\n",
    "plt.plot(opt.puts.strike, difference, '--')\n",
    "plt.xlabel('Strike Price')\n",
    "plt.ylabel('Implied Volatility')\n",
    "plt.title('Volatility Smile')"
   ]
  },
  {
   "cell_type": "code",
   "execution_count": 11,
   "metadata": {},
   "outputs": [
    {
     "data": {
      "text/plain": [
       "32.2265625"
      ]
     },
     "execution_count": 11,
     "metadata": {},
     "output_type": "execute_result"
    }
   ],
   "source": [
    "pp = mibian.Me([172.14, 170, 1.69, 0.51, 28], putPrice = 5.00)\n",
    "pp.impliedVolatility"
   ]
  },
  {
   "cell_type": "markdown",
   "metadata": {},
   "source": [
    "## Question 6"
   ]
  },
  {
   "cell_type": "code",
   "execution_count": 12,
   "metadata": {},
   "outputs": [],
   "source": [
    "import arrow\n",
    "T = ['2022-04-08','2022-04-14','2022-04-22','2022-04-29','2022-05-06',\n",
    "     '2022-05-13','2022-05-20','2022-06-17','2022-07-15','2022-09-16',\n",
    "     '2022-10-21','2022-11-18','2023-01-20','2023-03-17','2023-06-16',\n",
    "     '2023-09-15','2024-01-19','2024-06-21']"
   ]
  },
  {
   "cell_type": "code",
   "execution_count": 13,
   "metadata": {},
   "outputs": [],
   "source": [
    "K = [140,150,160,170,180,190,200]\n",
    "now = arrow.get('2022-04-07')\n",
    "days = np.zeros((len(T),1))\n",
    "impliedvol_s = np.zeros((len(K),len(days)))\n",
    "for j in range(len(days)):\n",
    "    for i in range(len(K)):\n",
    "        opt = AAPL.option_chain(T[j])\n",
    "        temp = arrow.get(T[j])\n",
    "        delta = temp - now\n",
    "        days[j] = delta.days\n",
    "        impliedvol_s [i,j] = opt.puts.impliedVolatility[opt.puts.strike == K[i]]"
   ]
  },
  {
   "cell_type": "code",
   "execution_count": 14,
   "metadata": {},
   "outputs": [
    {
     "data": {
      "image/png": "[encoded data removed]",
      "text/plain": [
       "<Figure size 720x432 with 2 Axes>"
      ]
     },
     "metadata": {
      "needs_background": "light"
     },
     "output_type": "display_data"
    }
   ],
   "source": [
    "fig = plt.figure(figsize=(10, 6))\n",
    "ax = fig.gca(projection='3d')\n",
    "K, days = np.meshgrid(K, days)\n",
    "surf = ax.plot_surface(K, days, impliedvol_s.T*100, rstride=2, cstride=2, cmap=plt.cm.coolwarm, linewidth=0.5, antialiased=True)\n",
    "ax.set_xlabel('Strike Price')\n",
    "ax.set_ylabel('Time to Expiry (Days)')\n",
    "ax.set_zlabel('Implied Volatility (%)')\n",
    "plt.title('The Volatility Surface')\n",
    "fig.colorbar(surf, shrink=0.5, aspect=5);"
   ]
  }
 ],
 "metadata": {
  "kernelspec": {
   "display_name": "Python 3",
   "language": "python",
   "name": "python3"
  },
  "language_info": {
   "codemirror_mode": {
    "name": "ipython",
    "version": 3
   },
   "file_extension": ".py",
   "mimetype": "text/x-python",
   "name": "python",
   "nbconvert_exporter": "python",
   "pygments_lexer": "ipython3",
   "version": "3.8.8"
  }
 },
 "nbformat": 4,
 "nbformat_minor": 4
}
